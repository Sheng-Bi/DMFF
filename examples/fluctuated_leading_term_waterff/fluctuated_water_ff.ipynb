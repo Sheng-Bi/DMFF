{
 "cells": [
  {
   "cell_type": "markdown",
   "id": "9cccf29a",
   "metadata": {},
   "source": [
    "In this demo we show how to implement a multipolar polarizable potential with fluctuating charges.\n",
    "First, we will use the DMFF API to create a multipolar polarizable potential with fixed atomic charges:\n",
    "\n",
    "Read input pdb and xml files, create the Hamiltonian object H."
   ]
  },
  {
   "cell_type": "code",
   "execution_count": 1,
   "id": "28b869ac",
   "metadata": {},
   "outputs": [],
   "source": [
    "import sys\n",
    "import jax\n",
    "import jax.numpy as jnp\n",
    "import openmm.app as app\n",
    "import openmm.unit as unit\n",
    "from dmff.api import Hamiltonian\n",
    "\n",
    "H = Hamiltonian('forcefield.xml')\n",
    "app.Topology.loadBondDefinitions(\"residues.xml\")\n",
    "pdb = app.PDBFile(\"water_dimer.pdb\")\n",
    "rc = 4"
   ]
  },
  {
   "cell_type": "markdown",
   "id": "f8bf6f57",
   "metadata": {},
   "source": [
    "For each force component, the Hamiltonian will create a generator. Here, we have two components: dispersion force and multipolar polarizable pme force. We will focus on the pme force. In the generator, you can find the force field parameters (charges, multipoles) stored in generator.params:"
   ]
  },
  {
   "cell_type": "code",
   "execution_count": 2,
   "id": "2dad4351",
   "metadata": {},
   "outputs": [
    {
     "name": "stdout",
     "output_type": "stream",
     "text": [
      "dict_keys(['mScales', 'pScales', 'dScales', 'Q_local', 'pol', 'tholes'])\n"
     ]
    }
   ],
   "source": [
    "disp_generator, pme_generator = H.getGenerators()\n",
    "print(pme_generator.params.keys())"
   ]
  },
  {
   "cell_type": "markdown",
   "id": "0ea2ec1a",
   "metadata": {},
   "source": [
    "Then use the `createPotential` function to create potential functions. When `createPotentials` is invoked, it will use the topology information of the system to create potential functions, and creates many useful information (e.g.,  local axis definitions) as well. This information is stored in generator.pme_force and will be used later"
   ]
  },
  {
   "cell_type": "code",
   "execution_count": 11,
   "id": "18d5650f",
   "metadata": {},
   "outputs": [
    {
     "name": "stdout",
     "output_type": "stream",
     "text": [
      "True\n",
      "[1 0 0 1 0 0]\n",
      "[[ 1  2 -1]\n",
      " [ 0  2 -1]\n",
      " [ 0  1 -1]\n",
      " [ 4  5 -1]\n",
      " [ 3  5 -1]\n",
      " [ 3  4 -1]]\n",
      "5\n"
     ]
    }
   ],
   "source": [
    "potentials = H.createPotential(pdb.topology, nonbondedCutoff=rc*unit.angstrom, step_pol=5)\n",
    "pot_disp = potentials[-2]\n",
    "pot_pme = potentials[-1]\n",
    "\n",
    "print(pme_generator.pme_force.lpol)\n",
    "print(pme_generator.pme_force.axis_type)\n",
    "print(pme_generator.pme_force.axis_indices)\n",
    "print(pme_generator.pme_force.steps_pol)"
   ]
  },
  {
   "cell_type": "markdown",
   "id": "97892dfe",
   "metadata": {},
   "source": [
    "What `pot_pme` actually does is to take force field parameters (i.e., oxygen and hydrogen charges), and expand it into atomic parameterss (i.e., charge of each atom), then calls the real pme kernel function to evaluate energy.\n",
    "\n",
    "Therefore, the input interface of `pot_pme` is not flexible enough to specify atom-specific charges, which is what we intend to do in this demo. So we will disregard `pot_pme`, but to wrap the real pme kernel directly in a way different to `pot_pme`. The pme kernel function can be accessed via generator:"
   ]
  },
  {
   "cell_type": "code",
   "execution_count": 4,
   "id": "39f6d776",
   "metadata": {},
   "outputs": [
    {
     "name": "stdout",
     "output_type": "stream",
     "text": [
      "Help on function get_energy in module dmff.admp.pme:\n",
      "\n",
      "get_energy(positions, box, pairs, Q_local, pol, tholes, mScales, pScales, dScales, U_init=DeviceArray([[0., 0., 0.],\n",
      "             [0., 0., 0.],\n",
      "             [0., 0., 0.],\n",
      "             [0., 0., 0.],\n",
      "             [0., 0., 0.],\n",
      "             [0., 0., 0.]], dtype=float32))\n",
      "    # this is the wrapper that include a Uind optimizer\n",
      "\n"
     ]
    }
   ],
   "source": [
    "help(pme_generator.pme_force.get_energy)"
   ]
  },
  {
   "cell_type": "markdown",
   "id": "a17ba838",
   "metadata": {},
   "source": [
    "Let's wrap it using the following function:"
   ]
  },
  {
   "cell_type": "code",
   "execution_count": 5,
   "id": "bae85400",
   "metadata": {
    "scrolled": true
   },
   "outputs": [
    {
     "name": "stdout",
     "output_type": "stream",
     "text": [
      "<function generate_calculator.<locals>.admp_calculator at 0x7f59d034e830>\n"
     ]
    }
   ],
   "source": [
    "from run import compute_leading_terms\n",
    "\n",
    "def generate_calculator(get_energy_pme, pme_generator):\n",
    "    def admp_calculator(positions, box, pairs):\n",
    "        c0, c6_list = compute_leading_terms(positions,box) # compute fluctuated charges\n",
    "        Q_local = pme_generator.params[\"Q_local\"][pme_generator.map_atomtype]\n",
    "        Q_local = Q_local.at[:,0].set(c0)  # change fixed charge into fluctuated one\n",
    "        pol = pme_generator.params[\"pol\"][pme_generator.map_atomtype]\n",
    "        tholes = pme_generator.params[\"tholes\"][pme_generator.map_atomtype]\n",
    "        mScales = pme_generator.params[\"mScales\"]\n",
    "        pScales = pme_generator.params[\"pScales\"]\n",
    "        dScales = pme_generator.params[\"dScales\"]\n",
    "        E_pme = pme_generator.pme_force.get_energy(\n",
    "            positions, \n",
    "            box, \n",
    "            pairs, \n",
    "            Q_local, \n",
    "            pol, \n",
    "            tholes, \n",
    "            mScales, \n",
    "            pScales, \n",
    "            dScales\n",
    "            )\n",
    "        return E_pme \n",
    "    return admp_calculator\n",
    "\n",
    "potential_fn = generate_calculator(pme_generator.pme_force.get_energy, pme_generator)\n",
    "print(potential_fn)"
   ]
  },
  {
   "cell_type": "markdown",
   "id": "6171bac9",
   "metadata": {},
   "source": [
    "Note in here, we use a function called `compute_leading_terms` to compute the atomic charges, and feed it into `pme_generator.pme_force.get_energy`, so geometry-dependent charge fluctuations are realized.\n",
    "\n",
    "Let's see how the wrapped `potential_fn` works:"
   ]
  },
  {
   "cell_type": "markdown",
   "id": "bddf9b49",
   "metadata": {},
   "source": [
    "First, prepare the inputs"
   ]
  },
  {
   "cell_type": "code",
   "execution_count": 6,
   "id": "8680d936",
   "metadata": {},
   "outputs": [],
   "source": [
    "positions = jnp.array(pdb.positions._value) * 10\n",
    "a, b, c = pdb.topology.getPeriodicBoxVectors()\n",
    "box = jnp.array([a._value, b._value, c._value]) * 10"
   ]
  },
  {
   "cell_type": "markdown",
   "id": "94c4f89e",
   "metadata": {},
   "source": [
    "Consturct neighbor list "
   ]
  },
  {
   "cell_type": "code",
   "execution_count": 7,
   "id": "bb2af638",
   "metadata": {},
   "outputs": [
    {
     "name": "stdout",
     "output_type": "stream",
     "text": [
      "[[0 1]\n",
      " [0 2]\n",
      " [1 2]\n",
      " [0 3]\n",
      " [1 3]\n",
      " [2 3]\n",
      " [0 4]\n",
      " [1 4]\n",
      " [2 4]\n",
      " [3 4]\n",
      " [0 5]\n",
      " [1 5]\n",
      " [2 5]\n",
      " [3 5]\n",
      " [4 5]\n",
      " [6 6]\n",
      " [6 6]\n",
      " [6 6]]\n"
     ]
    }
   ],
   "source": [
    "import dmff.common.nblist as nblist\n",
    "nbl = nblist.NeighborList(box, rc)\n",
    "pairs = nbl.allocate(positions).idx.T\n",
    "print(pairs)"
   ]
  },
  {
   "cell_type": "markdown",
   "id": "698c029e",
   "metadata": {},
   "source": [
    "Call the potential function"
   ]
  },
  {
   "cell_type": "code",
   "execution_count": 8,
   "id": "f74f9f6c",
   "metadata": {},
   "outputs": [
    {
     "name": "stdout",
     "output_type": "stream",
     "text": [
      "-41.352478\n"
     ]
    }
   ],
   "source": [
    "E = potential_fn(positions, box, pairs)\n",
    "print(E)"
   ]
  },
  {
   "cell_type": "markdown",
   "id": "6e59f678",
   "metadata": {},
   "source": [
    "You can use the auto differentiation function in jax to compute force:"
   ]
  },
  {
   "cell_type": "code",
   "execution_count": 12,
   "id": "131a8f3b",
   "metadata": {},
   "outputs": [
    {
     "name": "stdout",
     "output_type": "stream",
     "text": [
      "[[  7.6653423 -11.747272    7.999815 ]\n",
      " [-75.19945    58.282196   25.169626 ]\n",
      " [  1.8799052   4.969598  -14.643274 ]\n",
      " [ 67.67523   -38.337395  -20.55421  ]\n",
      " [  2.5347214   5.280134   -4.1624823]\n",
      " [ -4.551193  -18.451092    6.1247015]]\n"
     ]
    }
   ],
   "source": [
    "force_fn = jax.jit(jax.grad(potential_fn, argnums=(0)))\n",
    "F = force_fn(positions, box, pairs)\n",
    "print(F)"
   ]
  },
  {
   "cell_type": "code",
   "execution_count": 13,
   "id": "e723ed6f",
   "metadata": {},
   "outputs": [
    {
     "name": "stdout",
     "output_type": "stream",
     "text": [
      "[[  7.665777  -11.743576    8.00062  ]\n",
      " [-75.19835    58.281765   25.170254 ]\n",
      " [  1.8792243   4.9697785 -14.642523 ]\n",
      " [ 67.675674  -38.338062  -20.55489  ]\n",
      " [  2.5349426   5.279976   -4.1608496]\n",
      " [ -4.5494537 -18.451893    6.1248045]]\n"
     ]
    }
   ],
   "source": [
    "F = force_fn(positions, box, pairs)\n",
    "print(F)"
   ]
  },
  {
   "cell_type": "code",
   "execution_count": null,
   "id": "7187faa9",
   "metadata": {},
   "outputs": [],
   "source": []
  }
 ],
 "metadata": {
  "kernelspec": {
   "display_name": "Python 3 (ipykernel)",
   "language": "python",
   "name": "python3"
  },
  "language_info": {
   "codemirror_mode": {
    "name": "ipython",
    "version": 3
   },
   "file_extension": ".py",
   "mimetype": "text/x-python",
   "name": "python",
   "nbconvert_exporter": "python",
   "pygments_lexer": "ipython3",
   "version": "3.7.7"
  }
 },
 "nbformat": 4,
 "nbformat_minor": 5
}
